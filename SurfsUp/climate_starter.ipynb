{
 "cells": [
  {
   "cell_type": "code",
   "execution_count": 1,
   "metadata": {},
   "outputs": [],
   "source": [
    "%matplotlib inline\n",
    "from matplotlib import style\n",
    "style.use('fivethirtyeight')\n",
    "import matplotlib.pyplot as plt"
   ]
  },
  {
   "cell_type": "code",
   "execution_count": 2,
   "metadata": {},
   "outputs": [],
   "source": [
    "import numpy as np\n",
    "import pandas as pd\n",
    "import datetime as dt"
   ]
  },
  {
   "cell_type": "markdown",
   "metadata": {},
   "source": [
    "# Reflect Tables into SQLAlchemy ORM"
   ]
  },
  {
   "cell_type": "code",
   "execution_count": 3,
   "metadata": {},
   "outputs": [],
   "source": [
    "# Python SQL toolkit and Object Relational Mapper\n",
    "import sqlalchemy\n",
    "from sqlalchemy.ext.automap import automap_base\n",
    "from sqlalchemy.orm import Session\n",
    "from sqlalchemy import create_engine, func, text, inspect"
   ]
  },
  {
   "cell_type": "code",
   "execution_count": 4,
   "metadata": {},
   "outputs": [],
   "source": [
    "# create engine to hawaii.sqlite\n",
    "engine = create_engine(\"sqlite:///../Resources/hawaii.sqlite\")"
   ]
  },
  {
   "cell_type": "code",
   "execution_count": 5,
   "metadata": {},
   "outputs": [
    {
     "data": {
      "text/plain": [
       "FacadeDict({'measurement': Table('measurement', MetaData(), Column('id', INTEGER(), table=<measurement>, primary_key=True, nullable=False), Column('station', TEXT(), table=<measurement>), Column('date', TEXT(), table=<measurement>), Column('prcp', FLOAT(), table=<measurement>), Column('tobs', FLOAT(), table=<measurement>), schema=None), 'station': Table('station', MetaData(), Column('id', INTEGER(), table=<station>, primary_key=True, nullable=False), Column('station', TEXT(), table=<station>), Column('name', TEXT(), table=<station>), Column('latitude', FLOAT(), table=<station>), Column('longitude', FLOAT(), table=<station>), Column('elevation', FLOAT(), table=<station>), schema=None)})"
      ]
     },
     "execution_count": 5,
     "metadata": {},
     "output_type": "execute_result"
    }
   ],
   "source": [
    "# reflect an existing database into a new model\n",
    "base = automap_base()\n",
    "base.prepare(autoload_with=engine)\n",
    "# reflect the tables\n",
    "base.metadata.tables"
   ]
  },
  {
   "cell_type": "code",
   "execution_count": 6,
   "metadata": {},
   "outputs": [
    {
     "data": {
      "text/plain": [
       "['measurement', 'station']"
      ]
     },
     "execution_count": 6,
     "metadata": {},
     "output_type": "execute_result"
    }
   ],
   "source": [
    "# View all of the classes that automap found\n",
    "base.classes.keys()\n"
   ]
  },
  {
   "cell_type": "code",
   "execution_count": 7,
   "metadata": {},
   "outputs": [],
   "source": [
    "# Save references to each table\n",
    "measurement = base.classes.measurement\n",
    "station = base.classes.station"
   ]
  },
  {
   "cell_type": "code",
   "execution_count": 8,
   "metadata": {},
   "outputs": [],
   "source": [
    "# Create our session (link) from Python to the DB\n",
    "session = Session(engine)"
   ]
  },
  {
   "cell_type": "markdown",
   "metadata": {},
   "source": [
    "# Exploratory Precipitation Analysis"
   ]
  },
  {
   "cell_type": "code",
   "execution_count": 9,
   "metadata": {},
   "outputs": [
    {
     "data": {
      "text/plain": [
       "('2017-08-23',)"
      ]
     },
     "execution_count": 9,
     "metadata": {},
     "output_type": "execute_result"
    }
   ],
   "source": [
    "# Find the most recent date in the data set.\n",
    "recentdate = session.query(measurement.date).order_by(measurement.date.desc()).first()\n",
    "recentdate"
   ]
  },
  {
   "cell_type": "code",
   "execution_count": 10,
   "metadata": {},
   "outputs": [
    {
     "name": "stdout",
     "output_type": "stream",
     "text": [
      "The most recent data point\n",
      "(2724, 'USC00519397', '2017-08-23', 0.0, 81.0)\n",
      "(7635, 'USC00514830', '2017-08-23', 0.0, 82.0)\n",
      "(12187, 'USC00519523', '2017-08-23', 0.08, 82.0)\n",
      "(19550, 'USC00516128', '2017-08-23', 0.45, 76.0)\n",
      "---------------------------------------------------------------\n",
      "The date one year from the last date in data set\n",
      "2016-08-23\n",
      "---------------------------------------------------------------\n",
      "The data and precipitation scores from August23, 2016 to 2017.\n"
     ]
    },
    {
     "data": {
      "text/html": [
       "<div>\n",
       "<style scoped>\n",
       "    .dataframe tbody tr th:only-of-type {\n",
       "        vertical-align: middle;\n",
       "    }\n",
       "\n",
       "    .dataframe tbody tr th {\n",
       "        vertical-align: top;\n",
       "    }\n",
       "\n",
       "    .dataframe thead th {\n",
       "        text-align: right;\n",
       "    }\n",
       "</style>\n",
       "<table border=\"1\" class=\"dataframe\">\n",
       "  <thead>\n",
       "    <tr style=\"text-align: right;\">\n",
       "      <th></th>\n",
       "      <th>Date</th>\n",
       "      <th>Precipitation</th>\n",
       "    </tr>\n",
       "  </thead>\n",
       "  <tbody>\n",
       "    <tr>\n",
       "      <th>0</th>\n",
       "      <td>2016-08-23</td>\n",
       "      <td>0.00</td>\n",
       "    </tr>\n",
       "    <tr>\n",
       "      <th>1009</th>\n",
       "      <td>2016-08-23</td>\n",
       "      <td>NaN</td>\n",
       "    </tr>\n",
       "    <tr>\n",
       "      <th>1529</th>\n",
       "      <td>2016-08-23</td>\n",
       "      <td>1.79</td>\n",
       "    </tr>\n",
       "    <tr>\n",
       "      <th>704</th>\n",
       "      <td>2016-08-23</td>\n",
       "      <td>0.05</td>\n",
       "    </tr>\n",
       "    <tr>\n",
       "      <th>361</th>\n",
       "      <td>2016-08-23</td>\n",
       "      <td>0.15</td>\n",
       "    </tr>\n",
       "    <tr>\n",
       "      <th>...</th>\n",
       "      <td>...</td>\n",
       "      <td>...</td>\n",
       "    </tr>\n",
       "    <tr>\n",
       "      <th>1527</th>\n",
       "      <td>2017-08-22</td>\n",
       "      <td>0.00</td>\n",
       "    </tr>\n",
       "    <tr>\n",
       "      <th>1008</th>\n",
       "      <td>2017-08-23</td>\n",
       "      <td>0.00</td>\n",
       "    </tr>\n",
       "    <tr>\n",
       "      <th>360</th>\n",
       "      <td>2017-08-23</td>\n",
       "      <td>0.00</td>\n",
       "    </tr>\n",
       "    <tr>\n",
       "      <th>1528</th>\n",
       "      <td>2017-08-23</td>\n",
       "      <td>0.08</td>\n",
       "    </tr>\n",
       "    <tr>\n",
       "      <th>2229</th>\n",
       "      <td>2017-08-23</td>\n",
       "      <td>0.45</td>\n",
       "    </tr>\n",
       "  </tbody>\n",
       "</table>\n",
       "<p>2230 rows × 2 columns</p>\n",
       "</div>"
      ],
      "text/plain": [
       "            Date  Precipitation\n",
       "0     2016-08-23           0.00\n",
       "1009  2016-08-23            NaN\n",
       "1529  2016-08-23           1.79\n",
       "704   2016-08-23           0.05\n",
       "361   2016-08-23           0.15\n",
       "...          ...            ...\n",
       "1527  2017-08-22           0.00\n",
       "1008  2017-08-23           0.00\n",
       "360   2017-08-23           0.00\n",
       "1528  2017-08-23           0.08\n",
       "2229  2017-08-23           0.45\n",
       "\n",
       "[2230 rows x 2 columns]"
      ]
     },
     "execution_count": 10,
     "metadata": {},
     "output_type": "execute_result"
    }
   ],
   "source": [
    "# Design a query to retrieve the last 12 months of precipitation data and plot the results. \n",
    "# Starting from the most recent data point in the database. \n",
    "print('The most recent data point')\n",
    "query1 = text(\"SELECT * FROM measurement WHERE date = '2017-08-23';\")\n",
    "data1 = engine.execute(query1)\n",
    "for record in data1:\n",
    "    print(record)\n",
    "print('---------------------------------------------------------------')\n",
    "# Calculate the date one year from the last date in data set.\n",
    "query_annual = dt.date(2017, 8, 23) - dt.timedelta(days=365)\n",
    "print('The date one year from the last date in data set')\n",
    "print(query_annual)\n",
    "print('---------------------------------------------------------------')\n",
    "# Perform a query to retrieve the data and precipitation scores\n",
    "# Save the query results as a Pandas DataFrame. Explicitly set the column names\n",
    "# Sort the dataframe by date\n",
    "print('The data and precipitation scores from August23, 2016 to 2017.')\n",
    "query2 = text(\"SELECT * FROM measurement WHERE date < '2017-08-24' AND date > '2016-08-22';\")\n",
    "data2 = engine.execute(query2)\n",
    "dataframe = []\n",
    "for record2 in data2:\n",
    "    df = {}\n",
    "    df[\"Date\"] = record2.date\n",
    "    df[\"Precipitation\"] = record2.prcp\n",
    "    dataframe.append(df)\n",
    "    \n",
    "Data = pd.DataFrame(dataframe)\n",
    "Data3 = Data.sort_values('Date')\n",
    "Data3"
   ]
  },
  {
   "cell_type": "code",
   "execution_count": 11,
   "metadata": {},
   "outputs": [
    {
     "data": {
      "text/plain": [
       "Text(0.5, 1.0, 'Max Precipitation per Day')"
      ]
     },
     "execution_count": 11,
     "metadata": {},
     "output_type": "execute_result"
    },
    {
     "data": {
      "image/png": "[encoded data removed]",
      "text/plain": [
       "<Figure size 640x480 with 1 Axes>"
      ]
     },
     "metadata": {},
     "output_type": "display_data"
    }
   ],
   "source": [
    "# Use Pandas Plotting with Matplotlib to plot the data\n",
    "datagb = Data3.groupby('Date')['Precipitation'].max().reset_index()\n",
    "plt.bar(datagb['Date'], datagb['Precipitation'])\n",
    "plt.xlabel(\"Date\")\n",
    "plt.ylabel(\"Inches\")\n",
    "plt.title(\"Max Precipitation per Day\")"
   ]
  },
  {
   "cell_type": "code",
   "execution_count": 12,
   "metadata": {},
   "outputs": [
    {
     "data": {
      "text/html": [
       "<div>\n",
       "<style scoped>\n",
       "    .dataframe tbody tr th:only-of-type {\n",
       "        vertical-align: middle;\n",
       "    }\n",
       "\n",
       "    .dataframe tbody tr th {\n",
       "        vertical-align: top;\n",
       "    }\n",
       "\n",
       "    .dataframe thead th {\n",
       "        text-align: right;\n",
       "    }\n",
       "</style>\n",
       "<table border=\"1\" class=\"dataframe\">\n",
       "  <thead>\n",
       "    <tr style=\"text-align: right;\">\n",
       "      <th></th>\n",
       "      <th>Precipitation</th>\n",
       "    </tr>\n",
       "  </thead>\n",
       "  <tbody>\n",
       "    <tr>\n",
       "      <th>count</th>\n",
       "      <td>2021.000000</td>\n",
       "    </tr>\n",
       "    <tr>\n",
       "      <th>mean</th>\n",
       "      <td>0.177279</td>\n",
       "    </tr>\n",
       "    <tr>\n",
       "      <th>std</th>\n",
       "      <td>0.461190</td>\n",
       "    </tr>\n",
       "    <tr>\n",
       "      <th>min</th>\n",
       "      <td>0.000000</td>\n",
       "    </tr>\n",
       "    <tr>\n",
       "      <th>25%</th>\n",
       "      <td>0.000000</td>\n",
       "    </tr>\n",
       "    <tr>\n",
       "      <th>50%</th>\n",
       "      <td>0.020000</td>\n",
       "    </tr>\n",
       "    <tr>\n",
       "      <th>75%</th>\n",
       "      <td>0.130000</td>\n",
       "    </tr>\n",
       "    <tr>\n",
       "      <th>max</th>\n",
       "      <td>6.700000</td>\n",
       "    </tr>\n",
       "  </tbody>\n",
       "</table>\n",
       "</div>"
      ],
      "text/plain": [
       "       Precipitation\n",
       "count    2021.000000\n",
       "mean        0.177279\n",
       "std         0.461190\n",
       "min         0.000000\n",
       "25%         0.000000\n",
       "50%         0.020000\n",
       "75%         0.130000\n",
       "max         6.700000"
      ]
     },
     "execution_count": 12,
     "metadata": {},
     "output_type": "execute_result"
    }
   ],
   "source": [
    "# Use Pandas to calculate the summary statistics for the precipitation data\n",
    "Data3.describe()"
   ]
  },
  {
   "cell_type": "markdown",
   "metadata": {},
   "source": [
    "# Exploratory Station Analysis"
   ]
  },
  {
   "cell_type": "code",
   "execution_count": 13,
   "metadata": {},
   "outputs": [
    {
     "data": {
      "text/plain": [
       "9"
      ]
     },
     "execution_count": 13,
     "metadata": {},
     "output_type": "execute_result"
    }
   ],
   "source": [
    "# Design a query to calculate the total number of stations in the dataset\n",
    "session.query(measurement.station).distinct().count()"
   ]
  },
  {
   "cell_type": "code",
   "execution_count": 14,
   "metadata": {},
   "outputs": [
    {
     "data": {
      "text/plain": [
       "Date           2724\n",
       "Tempurature    2724\n",
       "dtype: int64"
      ]
     },
     "execution_count": 14,
     "metadata": {},
     "output_type": "execute_result"
    }
   ],
   "source": [
    "USC00519397 = []\n",
    "query21 = text(\"SELECT * FROM measurement WHERE station = 'USC00519397';\")\n",
    "data21 = engine.execute(query21)\n",
    "for record21 in data21:\n",
    "    df = {}\n",
    "    df[\"Date\"] = record21.date\n",
    "    df[\"Tempurature\"] = record21.tobs\n",
    "    USC00519397.append(df)\n",
    "dfUSC00519397 = pd.DataFrame(USC00519397)\n",
    "dfUSC00519397.count()"
   ]
  },
  {
   "cell_type": "code",
   "execution_count": 15,
   "metadata": {},
   "outputs": [
    {
     "data": {
      "text/plain": [
       "Date           2709\n",
       "Tempurature    2709\n",
       "dtype: int64"
      ]
     },
     "execution_count": 15,
     "metadata": {},
     "output_type": "execute_result"
    }
   ],
   "source": [
    "USC00513117 = []\n",
    "query21 = text(\"SELECT * FROM measurement WHERE station = 'USC00513117';\")\n",
    "data21 = engine.execute(query21)\n",
    "for record21 in data21:\n",
    "    df = {}\n",
    "    df[\"Date\"] = record21.date\n",
    "    df[\"Tempurature\"] = record21.tobs\n",
    "    USC00513117.append(df)\n",
    "dfUSC00513117 = pd.DataFrame(USC00513117)\n",
    "dfUSC00513117.count()"
   ]
  },
  {
   "cell_type": "code",
   "execution_count": 16,
   "metadata": {},
   "outputs": [
    {
     "data": {
      "text/plain": [
       "Date           2202\n",
       "Tempurature    2202\n",
       "dtype: int64"
      ]
     },
     "execution_count": 16,
     "metadata": {},
     "output_type": "execute_result"
    }
   ],
   "source": [
    "USC00514830 = []\n",
    "query21 = text(\"SELECT * FROM measurement WHERE station = 'USC00514830';\")\n",
    "data21 = engine.execute(query21)\n",
    "for record21 in data21:\n",
    "    df = {}\n",
    "    df[\"Date\"] = record21.date\n",
    "    df[\"Tempurature\"] = record21.tobs\n",
    "    USC00514830.append(df)\n",
    "dfUSC00514830 = pd.DataFrame(USC00514830)\n",
    "dfUSC00514830.count()"
   ]
  },
  {
   "cell_type": "code",
   "execution_count": 17,
   "metadata": {},
   "outputs": [
    {
     "data": {
      "text/plain": [
       "Date           1372\n",
       "Tempurature    1372\n",
       "dtype: int64"
      ]
     },
     "execution_count": 17,
     "metadata": {},
     "output_type": "execute_result"
    }
   ],
   "source": [
    "USC00517948 = []\n",
    "query21 = text(\"SELECT * FROM measurement WHERE station = 'USC00517948';\")\n",
    "data21 = engine.execute(query21)\n",
    "for record21 in data21:\n",
    "    df = {}\n",
    "    df[\"Date\"] = record21.date\n",
    "    df[\"Tempurature\"] = record21.tobs\n",
    "    USC00517948.append(df)\n",
    "dfUSC00517948 = pd.DataFrame(USC00517948)\n",
    "dfUSC00517948.count()"
   ]
  },
  {
   "cell_type": "code",
   "execution_count": 18,
   "metadata": {},
   "outputs": [
    {
     "data": {
      "text/plain": [
       "Date           511\n",
       "Tempurature    511\n",
       "dtype: int64"
      ]
     },
     "execution_count": 18,
     "metadata": {},
     "output_type": "execute_result"
    }
   ],
   "source": [
    "USC00518838 = []\n",
    "query21 = text(\"SELECT * FROM measurement WHERE station = 'USC00518838';\")\n",
    "data21 = engine.execute(query21)\n",
    "for record21 in data21:\n",
    "    df = {}\n",
    "    df[\"Date\"] = record21.date\n",
    "    df[\"Tempurature\"] = record21.tobs\n",
    "    USC00518838.append(df)\n",
    "dfUSC00518838 = pd.DataFrame(USC00518838)\n",
    "dfUSC00518838.count()"
   ]
  },
  {
   "cell_type": "code",
   "execution_count": 19,
   "metadata": {},
   "outputs": [
    {
     "data": {
      "text/plain": [
       "Date           2669\n",
       "Tempurature    2669\n",
       "dtype: int64"
      ]
     },
     "execution_count": 19,
     "metadata": {},
     "output_type": "execute_result"
    }
   ],
   "source": [
    "USC00519523 = []\n",
    "query21 = text(\"SELECT * FROM measurement WHERE station = 'USC00519523';\")\n",
    "data21 = engine.execute(query21)\n",
    "for record21 in data21:\n",
    "    df = {}\n",
    "    df[\"Date\"] = record21.date\n",
    "    df[\"Tempurature\"] = record21.tobs\n",
    "    USC00519523.append(df)\n",
    "dfUSC00519523 = pd.DataFrame(USC00519523)\n",
    "dfUSC00519523.count()"
   ]
  },
  {
   "cell_type": "code",
   "execution_count": 20,
   "metadata": {},
   "outputs": [
    {
     "data": {
      "text/plain": [
       "Date           2772\n",
       "Tempurature    2772\n",
       "dtype: int64"
      ]
     },
     "execution_count": 20,
     "metadata": {},
     "output_type": "execute_result"
    }
   ],
   "source": [
    "USC00519281 = []\n",
    "query21 = text(\"SELECT * FROM measurement WHERE station = 'USC00519281';\")\n",
    "data21 = engine.execute(query21)\n",
    "for record21 in data21:\n",
    "    df = {}\n",
    "    df[\"Date\"] = record21.date\n",
    "    df[\"Tempurature\"] = record21.tobs\n",
    "    USC00519281.append(df)\n",
    "dfUSC00519281 = pd.DataFrame(USC00519281)\n",
    "dfUSC00519281.count()"
   ]
  },
  {
   "cell_type": "code",
   "execution_count": 21,
   "metadata": {},
   "outputs": [
    {
     "data": {
      "text/plain": [
       "Date           1979\n",
       "Tempurature    1979\n",
       "dtype: int64"
      ]
     },
     "execution_count": 21,
     "metadata": {},
     "output_type": "execute_result"
    }
   ],
   "source": [
    "USC00511918 = []\n",
    "query21 = text(\"SELECT * FROM measurement WHERE station = 'USC00511918';\")\n",
    "data21 = engine.execute(query21)\n",
    "for record21 in data21:\n",
    "    df = {}\n",
    "    df[\"Date\"] = record21.date\n",
    "    df[\"Tempurature\"] = record21.tobs\n",
    "    USC00511918.append(df)\n",
    "dfUSC00511918 = pd.DataFrame(USC00511918)\n",
    "dfUSC00511918.count()"
   ]
  },
  {
   "cell_type": "code",
   "execution_count": 22,
   "metadata": {},
   "outputs": [
    {
     "data": {
      "text/plain": [
       "Date           2612\n",
       "Tempurature    2612\n",
       "dtype: int64"
      ]
     },
     "execution_count": 22,
     "metadata": {},
     "output_type": "execute_result"
    }
   ],
   "source": [
    "USC00516128 = []\n",
    "query21 = text(\"SELECT * FROM measurement WHERE station = 'USC00516128';\")\n",
    "data21 = engine.execute(query21)\n",
    "for record21 in data21:\n",
    "    df = {}\n",
    "    df[\"Date\"] = record21.date\n",
    "    df[\"Tempurature\"] = record21.tobs\n",
    "    USC00516128.append(df)\n",
    "dfUSC00516128 = pd.DataFrame(USC00516128)\n",
    "dfUSC00516128.count()"
   ]
  },
  {
   "cell_type": "code",
   "execution_count": 23,
   "metadata": {},
   "outputs": [
    {
     "data": {
      "text/plain": [
       "[('USC00519281', 2772),\n",
       " ('USC00519397', 2724),\n",
       " ('USC00513117', 2709),\n",
       " ('USC00519523', 2669),\n",
       " ('USC00516128', 2612),\n",
       " ('USC00514830', 2202),\n",
       " ('USC00511918', 1979),\n",
       " ('USC00517948', 1372),\n",
       " ('USC00518838', 511)]"
      ]
     },
     "execution_count": 23,
     "metadata": {},
     "output_type": "execute_result"
    }
   ],
   "source": [
    "# Design a query to find the most active stations (i.e. which stations have the most rows?)\n",
    "# List the stations and their counts in descending order.\n",
    "stationlist = []\n",
    "stationlist.append(('USC00519281', dfUSC00519281['Tempurature'].count()))\n",
    "stationlist.append(('USC00519397', dfUSC00519397['Tempurature'].count()))\n",
    "stationlist.append(('USC00513117', dfUSC00513117['Tempurature'].count()))\n",
    "stationlist.append(('USC00519523', dfUSC00519523['Tempurature'].count()))\n",
    "stationlist.append(('USC00516128', dfUSC00516128['Tempurature'].count()))\n",
    "stationlist.append(('USC00514830', dfUSC00514830['Tempurature'].count()))\n",
    "stationlist.append(('USC00511918', dfUSC00511918['Tempurature'].count()))\n",
    "stationlist.append(('USC00517948', dfUSC00517948['Tempurature'].count()))\n",
    "stationlist.append(('USC00518838', dfUSC00518838['Tempurature'].count()))\n",
    "stationlist "
   ]
  },
  {
   "cell_type": "code",
   "execution_count": 24,
   "metadata": {},
   "outputs": [],
   "source": [
    "templist = []\n",
    "templist.append(dfUSC00519281['Tempurature'].min())\n",
    "templist.append(dfUSC00519281['Tempurature'].max())\n",
    "templist.append(dfUSC00519281['Tempurature'].mean())"
   ]
  },
  {
   "cell_type": "code",
   "execution_count": 25,
   "metadata": {},
   "outputs": [
    {
     "data": {
      "text/plain": [
       "[54.0, 85.0, 71.66378066378067]"
      ]
     },
     "execution_count": 25,
     "metadata": {},
     "output_type": "execute_result"
    }
   ],
   "source": [
    "# Using the most active station id from the previous query, calculate the lowest, highest, and average temperature.\n",
    "templist"
   ]
  },
  {
   "cell_type": "code",
   "execution_count": 26,
   "metadata": {},
   "outputs": [],
   "source": [
    "# dfUSC00519281"
   ]
  },
  {
   "cell_type": "code",
   "execution_count": 27,
   "metadata": {},
   "outputs": [
    {
     "data": {
      "text/plain": [
       "72.0    290\n",
       "73.0    278\n",
       "71.0    265\n",
       "74.0    261\n",
       "70.0    227\n",
       "75.0    204\n",
       "69.0    193\n",
       "76.0    148\n",
       "68.0    143\n",
       "67.0    111\n",
       "77.0    111\n",
       "78.0     88\n",
       "66.0     80\n",
       "65.0     71\n",
       "79.0     54\n",
       "80.0     43\n",
       "64.0     41\n",
       "62.0     37\n",
       "63.0     33\n",
       "81.0     22\n",
       "61.0     19\n",
       "60.0     15\n",
       "82.0     11\n",
       "58.0      6\n",
       "57.0      6\n",
       "59.0      5\n",
       "56.0      4\n",
       "83.0      3\n",
       "54.0      1\n",
       "84.0      1\n",
       "85.0      1\n",
       "Name: Tempurature, dtype: int64"
      ]
     },
     "execution_count": 27,
     "metadata": {},
     "output_type": "execute_result"
    }
   ],
   "source": [
    "dfUSC00519281['Tempurature'].value_counts()"
   ]
  },
  {
   "cell_type": "code",
   "execution_count": 28,
   "metadata": {},
   "outputs": [],
   "source": [
    "# datagb7 = Data5.groupby('Date')['Precipitation'].max().reset_index()\n",
    "# plt.bar(datagb['Date'], datagb['Precipitation'])\n",
    "# plt.xlabel(\"Date\")\n",
    "# plt.ylabel(\"Inches\")\n",
    "# plt.title(\"Max Precipitation per Day\")"
   ]
  },
  {
   "cell_type": "code",
   "execution_count": 29,
   "metadata": {},
   "outputs": [
    {
     "data": {
      "text/plain": [
       "74.0    39\n",
       "75.0    33\n",
       "76.0    33\n",
       "77.0    31\n",
       "78.0    23\n",
       "70.0    22\n",
       "72.0    22\n",
       "79.0    20\n",
       "69.0    19\n",
       "73.0    18\n",
       "71.0    18\n",
       "67.0    15\n",
       "68.0    12\n",
       "80.0    12\n",
       "65.0     7\n",
       "62.0     6\n",
       "81.0     5\n",
       "66.0     5\n",
       "63.0     4\n",
       "64.0     3\n",
       "59.0     3\n",
       "82.0     3\n",
       "60.0     2\n",
       "61.0     1\n",
       "83.0     1\n",
       "Name: Tempurature, dtype: int64"
      ]
     },
     "execution_count": 29,
     "metadata": {},
     "output_type": "execute_result"
    }
   ],
   "source": [
    "# USC00519281a = []\n",
    "# query4 = text(\"SELECT * FROM measurement WHERE station = 'USC00519281' AND date < '2017-08-19' AND date > '2016-08-17';\")\n",
    "# data4 = engine.execute(query4)\n",
    "# for record4 in data4:\n",
    "#     df = {}\n",
    "#     df[\"Date\"] = record4.date\n",
    "#     df[\"Tempurature\"] = record4.tobs\n",
    "#     USC00519281a.append(df)\n",
    "# dfUSC00519281a = pd.DataFrame(USC00519281a)\n",
    "# dfUSC00519281a['Tempurature'].value_counts()"
   ]
  },
  {
   "cell_type": "code",
   "execution_count": null,
   "metadata": {},
   "outputs": [],
   "source": []
  },
  {
   "cell_type": "code",
   "execution_count": null,
   "metadata": {},
   "outputs": [],
   "source": []
  },
  {
   "cell_type": "code",
   "execution_count": null,
   "metadata": {},
   "outputs": [],
   "source": []
  },
  {
   "cell_type": "code",
   "execution_count": null,
   "metadata": {},
   "outputs": [],
   "source": []
  },
  {
   "cell_type": "code",
   "execution_count": null,
   "metadata": {},
   "outputs": [],
   "source": []
  },
  {
   "cell_type": "code",
   "execution_count": null,
   "metadata": {},
   "outputs": [],
   "source": []
  },
  {
   "cell_type": "code",
   "execution_count": null,
   "metadata": {},
   "outputs": [],
   "source": []
  },
  {
   "cell_type": "code",
   "execution_count": 15,
   "metadata": {},
   "outputs": [
    {
     "data": {
      "text/plain": [
       "Text(0.5, 4.183333333333314, 'Temperature')"
      ]
     },
     "execution_count": 15,
     "metadata": {},
     "output_type": "execute_result"
    },
    {
     "data": {
      "image/png": "[encoded data removed]",
      "text/plain": [
       "<Figure size 640x480 with 1 Axes>"
      ]
     },
     "metadata": {},
     "output_type": "display_data"
    }
   ],
   "source": [
    "# Using the most active station id\n",
    "# Query the last 12 months of temperature observation data for this station and plot the results as a histogram\n"
   ]
  },
  {
   "cell_type": "markdown",
   "metadata": {},
   "source": [
    "# Close Session"
   ]
  },
  {
   "cell_type": "code",
   "execution_count": 16,
   "metadata": {},
   "outputs": [],
   "source": [
    "# Close Session\n",
    "session.close()"
   ]
  },
  {
   "cell_type": "code",
   "execution_count": null,
   "metadata": {},
   "outputs": [],
   "source": []
  }
 ],
 "metadata": {
  "anaconda-cloud": {},
  "kernel_info": {
   "name": "python3"
  },
  "kernelspec": {
   "display_name": "Python 3 (ipykernel)",
   "language": "python",
   "name": "python3"
  },
  "language_info": {
   "codemirror_mode": {
    "name": "ipython",
    "version": 3
   },
   "file_extension": ".py",
   "mimetype": "text/x-python",
   "name": "python",
   "nbconvert_exporter": "python",
   "pygments_lexer": "ipython3",
   "version": "3.11.4"
  },
  "nteract": {
   "version": "0.12.3"
  },
  "varInspector": {
   "cols": {
    "lenName": 16,
    "lenType": 16,
    "lenVar": 40
   },
   "kernels_config": {
    "python": {
     "delete_cmd_postfix": "",
     "delete_cmd_prefix": "del ",
     "library": "var_list.py",
     "varRefreshCmd": "print(var_dic_list())"
    },
    "r": {
     "delete_cmd_postfix": ") ",
     "delete_cmd_prefix": "rm(",
     "library": "var_list.r",
     "varRefreshCmd": "cat(var_dic_list()) "
    }
   },
   "types_to_exclude": [
    "module",
    "function",
    "builtin_function_or_method",
    "instance",
    "_Feature"
   ],
   "window_display": false
  }
 },
 "nbformat": 4,
 "nbformat_minor": 2
}
